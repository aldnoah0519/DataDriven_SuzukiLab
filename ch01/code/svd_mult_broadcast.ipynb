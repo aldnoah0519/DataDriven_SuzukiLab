{
 "cells": [
  {
   "cell_type": "markdown",
   "metadata": {},
   "source": [
    "# サンプルコード中の対角行列化について\n",
    "\n",
    "サンプルコード中では，行列 `X` の SVD から得られる `U, S, VT` の掛け算をしたいときに，\n",
    "S を対角行列化しています．これは\n",
    "`U @ S @ VT` における `@` が（通常の数学の文脈における）行列の掛け算になっているからです．\n",
    "\n",
    "SVD の出力する `S` のサイズは $r$ ですが，これを対角行列化（以降，これを `matS` と呼ぶことにします）するとサイズは $r\\times r$ になってしまいます．対角行列のためのメモリを確保する時間や，メモリの無駄遣いを減らす方法を考えてみましょう．"
   ]
  },
  {
   "cell_type": "markdown",
   "metadata": {},
   "source": [
    "### numpy.einsum\n",
    "\n",
    "numpy.einsumメソッドは，アインシュタインの縮約記法に基づいてベクトルや行列に関するさまざまな演算を実現します．\n",
    "標準的なベクトル・行列間の演算のためのメソッドは numpy があらかじめ用意してくれていますが，そこから漏れた素朴な演算を実現するときに便利です．\n",
    "\n",
    "次のコードが示すように，`np.einsum(\"...,...j\",S,VT)` は `matS @VT` と等しい結果を与えます．したがって，これを利用することで `matS` を経由せずに `U @ S @ VT` を計算することができます．"
   ]
  },
  {
   "cell_type": "code",
   "execution_count": 43,
   "metadata": {},
   "outputs": [
    {
     "name": "stdout",
     "output_type": "stream",
     "text": [
      "error =  0.0\n"
     ]
    }
   ],
   "source": [
    "import numpy as np\n",
    "rs = np.random.RandomState(0)\n",
    "\n",
    "X= rs.rand(100,100)\n",
    "U, S, VT = np.linalg.svd(X,full_matrices=False)\n",
    "\n",
    "matS = np.diag(S)\n",
    "\n",
    "print(\"error = \", np.sum(np.einsum(\"...,...j\",S,VT) - matS @VT))"
   ]
  },
  {
   "cell_type": "markdown",
   "metadata": {},
   "source": [
    "計算にかかっている時間を計測してみましょう．次の二つのコードセルが示すように，`numpy.einsum` を用いることで処理が高速化されています．"
   ]
  },
  {
   "cell_type": "code",
   "execution_count": 39,
   "metadata": {},
   "outputs": [
    {
     "name": "stdout",
     "output_type": "stream",
     "text": [
      "55.1 µs ± 7 µs per loop (mean ± std. dev. of 7 runs, 10000 loops each)\n"
     ]
    }
   ],
   "source": [
    "%%timeit\n",
    "matS = np.diag(S)\n",
    "U @ matS @VT"
   ]
  },
  {
   "cell_type": "code",
   "execution_count": 40,
   "metadata": {},
   "outputs": [
    {
     "name": "stdout",
     "output_type": "stream",
     "text": [
      "38.4 µs ± 962 ns per loop (mean ± std. dev. of 7 runs, 10000 loops each)\n"
     ]
    }
   ],
   "source": [
    "%%timeit\n",
    "U @ np.einsum(\"...,...j\",S,VT)"
   ]
  },
  {
   "cell_type": "markdown",
   "metadata": {},
   "source": [
    "`matS` を導入する時間を計測時間から除いてみましょう．`numpy.einsum` を用いた場合とほとんどかかる時間に違いはなさそうです．しかり，メモリの利用の観点からは `matS` のようなものをつくらないほうが望ましいです．"
   ]
  },
  {
   "cell_type": "code",
   "execution_count": 41,
   "metadata": {},
   "outputs": [
    {
     "name": "stdout",
     "output_type": "stream",
     "text": [
      "39.6 µs ± 2.12 µs per loop (mean ± std. dev. of 7 runs, 10000 loops each)\n"
     ]
    }
   ],
   "source": [
    "%%timeit\n",
    "#matS = np.diag(S)\n",
    "U @ matS @VT"
   ]
  }
 ],
 "metadata": {
  "kernelspec": {
   "display_name": "Python 3.9.13 ('base')",
   "language": "python",
   "name": "python3"
  },
  "language_info": {
   "codemirror_mode": {
    "name": "ipython",
    "version": 3
   },
   "file_extension": ".py",
   "mimetype": "text/x-python",
   "name": "python",
   "nbconvert_exporter": "python",
   "pygments_lexer": "ipython3",
   "version": "3.9.13"
  },
  "orig_nbformat": 4,
  "vscode": {
   "interpreter": {
    "hash": "d9f578602d168bcfc7d89cd55babf4b7519af744f04505b906a5a7f74885dccb"
   }
  }
 },
 "nbformat": 4,
 "nbformat_minor": 2
}
